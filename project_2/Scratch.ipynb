{
 "cells": [
  {
   "cell_type": "code",
   "execution_count": 2,
   "id": "2afdde39",
   "metadata": {},
   "outputs": [],
   "source": [
    "import numpy as np\n",
    "import pandas as pd"
   ]
  },
  {
   "cell_type": "code",
   "execution_count": 3,
   "id": "89cea9bd",
   "metadata": {},
   "outputs": [],
   "source": [
    "data = {\n",
    "    'Stream': ['false', 'true', 'true', 'false', 'false', 'true', 'true'],\n",
    "    'Slope': ['steep', 'moderate', 'steep', 'steep', 'flat', 'steep', 'steep'],\n",
    "    'Elevation': ['high', 'low', 'medium', 'medium', 'high', 'highest', 'high'],\n",
    "    'Vegetation': ['chapparal', 'riparian', 'riparian', 'chapparal', 'conifer', 'conifer', 'chapparal']\n",
    "}\n",
    "\n",
    "df = pd.DataFrame(data)"
   ]
  },
  {
   "cell_type": "code",
   "execution_count": 4,
   "id": "49b57527",
   "metadata": {},
   "outputs": [
    {
     "data": {
      "text/plain": [
       "array(['false', 'true'], dtype=object)"
      ]
     },
     "execution_count": 4,
     "metadata": {},
     "output_type": "execute_result"
    }
   ],
   "source": [
    "X, y = df.iloc[:, :-1], df.iloc[:, -1]\n",
    "X['Stream'].unique()"
   ]
  },
  {
   "cell_type": "code",
   "execution_count": null,
   "id": "5cd9cee3",
   "metadata": {},
   "outputs": [
    {
     "data": {
      "text/plain": [
       "{'Elevation': array([ 300, 1200, 1500, 3000, 3900, 4450, 5000])}"
      ]
     },
     "execution_count": 79,
     "metadata": {},
     "output_type": "execute_result"
    }
   ],
   "source": [
    "{k: X[k].unique() for k in X.columns}"
   ]
  },
  {
   "cell_type": "code",
   "execution_count": null,
   "id": "91588dfe",
   "metadata": {},
   "outputs": [
    {
     "data": {
      "text/plain": [
       "False"
      ]
     },
     "execution_count": 80,
     "metadata": {},
     "output_type": "execute_result"
    }
   ],
   "source": [
    "# Base Case 1\n",
    "a = y.loc[X['Elevation']=='low']\n",
    "len(a.unique()) == 1"
   ]
  },
  {
   "cell_type": "code",
   "execution_count": null,
   "id": "fc7eab88",
   "metadata": {},
   "outputs": [
    {
     "name": "stdout",
     "output_type": "stream",
     "text": [
      "   A  B\n",
      "0  0  1\n",
      "1  0  1\n",
      "True\n",
      "   A  B\n",
      "0  0  0\n",
      "1  1  1\n"
     ]
    },
    {
     "data": {
      "text/plain": [
       "False"
      ]
     },
     "execution_count": 81,
     "metadata": {},
     "output_type": "execute_result"
    }
   ],
   "source": [
    "# Base Case 2\n",
    "data = {\n",
    "    'A':[0,0],\n",
    "    'B':[1,1]\n",
    "}\n",
    "\n",
    "a = pd.DataFrame(data)\n",
    "print(a)\n",
    "\n",
    "print(all((a[d] == a[d].iloc[0]).all() for d in a.columns))\n",
    "\n",
    "data = {\n",
    "    'A':[0,1],\n",
    "    'B':[0,1]\n",
    "}\n",
    "\n",
    "a = pd.DataFrame(data)\n",
    "print(a)\n",
    "all((a[d] == a[d].iloc[0]).all() for d in a.columns)"
   ]
  },
  {
   "cell_type": "code",
   "execution_count": null,
   "id": "fbf82e9f",
   "metadata": {},
   "outputs": [
    {
     "data": {
      "text/plain": [
       "True"
      ]
     },
     "execution_count": 82,
     "metadata": {},
     "output_type": "execute_result"
    }
   ],
   "source": [
    "# Base Case 3\n",
    "a = pd.DataFrame({})\n",
    "a.empty"
   ]
  },
  {
   "cell_type": "code",
   "execution_count": 22,
   "id": "ad2e455a",
   "metadata": {},
   "outputs": [
    {
     "data": {
      "text/plain": [
       "2"
      ]
     },
     "execution_count": 22,
     "metadata": {},
     "output_type": "execute_result"
    }
   ],
   "source": [
    "class Foo:\n",
    "    def __init__(self, a=0, b=0, c=0):\n",
    "        self.a = a\n",
    "        self.b = b\n",
    "        self.c = c\n",
    "\n",
    "    def makeLeaf(self, **kwargs):\n",
    "        return Foo(**kwargs)\n",
    "\n",
    "foo = Foo(1, 2, 3)\n",
    "bar = foo.makeLeaf(a=1, b=2, c=3)\n",
    "bar.b"
   ]
  },
  {
   "cell_type": "code",
   "execution_count": null,
   "id": "f8ed6bba",
   "metadata": {},
   "outputs": [],
   "source": []
  }
 ],
 "metadata": {
  "kernelspec": {
   "display_name": "Python 3 (ipykernel)",
   "language": "python",
   "name": "python3"
  },
  "language_info": {
   "codemirror_mode": {
    "name": "ipython",
    "version": 3
   },
   "file_extension": ".py",
   "mimetype": "text/x-python",
   "name": "python",
   "nbconvert_exporter": "python",
   "pygments_lexer": "ipython3",
   "version": "3.10.6"
  },
  "vscode": {
   "interpreter": {
    "hash": "31f2aee4e71d21fbe5cf8b01ff0e069b9275f58929596ceb00d14d90e3e16cd6"
   }
  }
 },
 "nbformat": 4,
 "nbformat_minor": 5
}
