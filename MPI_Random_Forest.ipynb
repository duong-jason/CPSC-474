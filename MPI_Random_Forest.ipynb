{
 "cells": [
  {
   "cell_type": "code",
   "execution_count": 31,
   "id": "da94b54e",
   "metadata": {},
   "outputs": [],
   "source": [
    "import numpy as np\n",
    "import pandas as pd\n",
    "import statistics as stat"
   ]
  },
  {
   "cell_type": "code",
   "execution_count": 32,
   "id": "ae58c5e1",
   "metadata": {},
   "outputs": [],
   "source": [
    "np.random.seed(42)"
   ]
  },
  {
   "cell_type": "code",
   "execution_count": 33,
   "id": "0cde24ed",
   "metadata": {},
   "outputs": [
    {
     "data": {
      "text/html": [
       "<div>\n",
       "<style scoped>\n",
       "    .dataframe tbody tr th:only-of-type {\n",
       "        vertical-align: middle;\n",
       "    }\n",
       "\n",
       "    .dataframe tbody tr th {\n",
       "        vertical-align: top;\n",
       "    }\n",
       "\n",
       "    .dataframe thead th {\n",
       "        text-align: right;\n",
       "    }\n",
       "</style>\n",
       "<table border=\"1\" class=\"dataframe\">\n",
       "  <thead>\n",
       "    <tr style=\"text-align: right;\">\n",
       "      <th></th>\n",
       "      <th>Stream</th>\n",
       "      <th>Slope</th>\n",
       "      <th>Elevation</th>\n",
       "      <th>Vegetation</th>\n",
       "    </tr>\n",
       "  </thead>\n",
       "  <tbody>\n",
       "    <tr>\n",
       "      <th>0</th>\n",
       "      <td>false</td>\n",
       "      <td>steep</td>\n",
       "      <td>high</td>\n",
       "      <td>chapparal</td>\n",
       "    </tr>\n",
       "    <tr>\n",
       "      <th>1</th>\n",
       "      <td>true</td>\n",
       "      <td>moderate</td>\n",
       "      <td>low</td>\n",
       "      <td>riparian</td>\n",
       "    </tr>\n",
       "    <tr>\n",
       "      <th>2</th>\n",
       "      <td>true</td>\n",
       "      <td>steep</td>\n",
       "      <td>medium</td>\n",
       "      <td>riparian</td>\n",
       "    </tr>\n",
       "    <tr>\n",
       "      <th>3</th>\n",
       "      <td>false</td>\n",
       "      <td>steep</td>\n",
       "      <td>medium</td>\n",
       "      <td>chapparal</td>\n",
       "    </tr>\n",
       "    <tr>\n",
       "      <th>4</th>\n",
       "      <td>false</td>\n",
       "      <td>flat</td>\n",
       "      <td>high</td>\n",
       "      <td>conifer</td>\n",
       "    </tr>\n",
       "    <tr>\n",
       "      <th>5</th>\n",
       "      <td>true</td>\n",
       "      <td>steep</td>\n",
       "      <td>highest</td>\n",
       "      <td>conifer</td>\n",
       "    </tr>\n",
       "    <tr>\n",
       "      <th>6</th>\n",
       "      <td>true</td>\n",
       "      <td>steep</td>\n",
       "      <td>high</td>\n",
       "      <td>chapparal</td>\n",
       "    </tr>\n",
       "  </tbody>\n",
       "</table>\n",
       "</div>"
      ],
      "text/plain": [
       "  Stream     Slope Elevation Vegetation\n",
       "0  false     steep      high  chapparal\n",
       "1   true  moderate       low   riparian\n",
       "2   true     steep    medium   riparian\n",
       "3  false     steep    medium  chapparal\n",
       "4  false      flat      high    conifer\n",
       "5   true     steep   highest    conifer\n",
       "6   true     steep      high  chapparal"
      ]
     },
     "execution_count": 33,
     "metadata": {},
     "output_type": "execute_result"
    }
   ],
   "source": [
    "data = {\n",
    "    'Stream': ['false', 'true', 'true', 'false', 'false', 'true', 'true'],\n",
    "    'Slope': ['steep', 'moderate', 'steep', 'steep', 'flat', 'steep', 'steep'],\n",
    "    'Elevation': ['high', 'low', 'medium', 'medium', 'high', 'highest', 'high'],\n",
    "    'Vegetation': ['chapparal', 'riparian', 'riparian', 'chapparal', 'conifer', 'conifer', 'chapparal']\n",
    "}\n",
    "\n",
    "df = pd.DataFrame(data)\n",
    "df"
   ]
  },
  {
   "cell_type": "code",
   "execution_count": 34,
   "id": "950bd240",
   "metadata": {},
   "outputs": [
    {
     "data": {
      "text/plain": [
       "'false'"
      ]
     },
     "execution_count": 34,
     "metadata": {},
     "output_type": "execute_result"
    }
   ],
   "source": [
    "X, y = df.iloc[:, :-1], df.iloc[:, -1]\n",
    "X['Stream'][0]"
   ]
  },
  {
   "cell_type": "code",
   "execution_count": 35,
   "id": "91e4649e",
   "metadata": {},
   "outputs": [],
   "source": [
    "class Node:\n",
    "    def __init__(self, data=None, feature=None, parent=None, leaf=False, arc=None, children=[]):\n",
    "        self.data = data\n",
    "        self.feature = feature\n",
    "        self.parent = parent\n",
    "        self.leaf = leaf\n",
    "        self.arc = arc\n",
    "        self.children = children\n",
    "    \n",
    "    @property\n",
    "    def isLeaf(self):\n",
    "        return self.leaf\n",
    "\n",
    "    @property\n",
    "    def y_data(self):\n",
    "        return self.data.iloc[:, -1]\n",
    "    \n",
    "    @property\n",
    "    def X_data(self):\n",
    "        return self.data.iloc[:, :-1]"
   ]
  },
  {
   "cell_type": "code",
   "execution_count": 36,
   "id": "02c8aafa",
   "metadata": {},
   "outputs": [],
   "source": [
    "class DecisionTree:\n",
    "    \"\"\"\n",
    "    A Rudimentary Decision Tree Classifier\n",
    "    \n",
    "    TODO\n",
    "        - Pruning\n",
    "        - Continuous Feature Values\n",
    "    \"\"\"\n",
    "    def __init__(self):\n",
    "        self.root = None\n",
    "        # self.max_depth = float('inf')\n",
    "\n",
    "    def entropy(self, X, y):\n",
    "        proba = lambda t: len(X.loc[y==t]) / len(X)\n",
    "        return -sum([proba(t) * np.log2(proba(t)) for t in y.unique()])\n",
    "    \n",
    "    def rem(self, X, y, d):\n",
    "        weight = lambda t: len(X.loc[X[d]==t]) / len(X)\n",
    "        return sum([weight(t) * self.entropy(X.loc[X[d]==t], y.loc[X[d]==t]) for t in X[d].unique()])\n",
    "\n",
    "    def information_gain(self, X, y, d):\n",
    "        return self.entropy(X, y) - self.rem(X, y, d)\n",
    "\n",
    "    def fit(self, X, y, *, arc=None, parent=None):\n",
    "        \"\"\"Performs the ID3 algorithm\"\"\"\n",
    "        if (len(y.unique())) == 1:  # all instances have the same target feature values\n",
    "            return Node(data=pd.concat([X, y], axis=1),\n",
    "                        feature=y.iloc[0],\n",
    "                        leaf=True,\n",
    "                        arc=arc,\n",
    "                        parent=parent)\n",
    "        elif all((X[d] == X[d].iloc[0]).all() for d in X.columns):  # if all feature values are identical\n",
    "            return Node(feature=stat.mode(parent.y_data),\n",
    "                        leaf=True,\n",
    "                        arc=arc,\n",
    "                        parent=parent)\n",
    "        elif not len(X):  # dataset is empty, return a leaf node labeled with the majority class of the parent\n",
    "            return Node(feature=stat.mode(parent.y_data),\n",
    "                        leaf=True,\n",
    "                        arc=arc,\n",
    "                        parent=parent)\n",
    "\n",
    "        best_feature = X.columns[np.argmax([self.information_gain(X, y, d) for d in X.columns])]\n",
    "        best_node = Node(\n",
    "            data=pd.concat([X, y], axis=1),\n",
    "            feature=best_feature,\n",
    "            arc=arc,\n",
    "            parent=parent)\n",
    "        \n",
    "        print('Best Feature', best_feature)\n",
    "\n",
    "        partitions = [[X.loc[X[best_feature]==t], y.loc[X[best_feature]==t], t]\n",
    "                      for t in X[best_feature].unique()]\n",
    "        for i, _ in enumerate(partitions):\n",
    "            partitions[i][0] = partitions[i][0].drop([best_feature], axis=1)\n",
    "\n",
    "        # if not self.root:\n",
    "        #     self.root = best_node\n",
    "\n",
    "        for *d, t in partitions:\n",
    "            # print(pd.concat([*d], axis=1))\n",
    "            best_node.children.append(self.fit(*d, arc=t, parent=best_node))\n",
    "\n",
    "        # if self.root is best_node:\n",
    "        #     self.root = best_node\n",
    "\n",
    "        return best_node\n",
    "\n",
    "    def predict(self, X):\n",
    "        pass"
   ]
  },
  {
   "cell_type": "code",
   "execution_count": 37,
   "id": "39e4a20b",
   "metadata": {},
   "outputs": [],
   "source": [
    "dt = DecisionTree()"
   ]
  },
  {
   "cell_type": "code",
   "execution_count": 38,
   "id": "28cad65b",
   "metadata": {},
   "outputs": [
    {
     "name": "stdout",
     "output_type": "stream",
     "text": [
      "Best Feature Elevation\n",
      "Best Feature Slope\n",
      "Best Feature Stream\n"
     ]
    }
   ],
   "source": [
    "root = dt.fit(X, y)"
   ]
  },
  {
   "cell_type": "code",
   "execution_count": 39,
   "id": "7f1d1640",
   "metadata": {},
   "outputs": [
    {
     "name": "stdout",
     "output_type": "stream",
     "text": [
      "Slope -> steep\n",
      "\t chapparal\n",
      "Slope -> flat\n",
      "\t conifer\n",
      "Elevation -> high\n",
      "\t Slope\n",
      "Elevation -> low\n",
      "\t riparian\n",
      "Stream -> true\n",
      "\t riparian\n",
      "Stream -> false\n",
      "\t chapparal\n",
      "Elevation -> medium\n",
      "\t Stream\n",
      "Elevation -> highest\n",
      "\t conifer\n"
     ]
    }
   ],
   "source": [
    "for i in root.children:\n",
    "    print(i.parent.feature, '->', i.arc)\n",
    "    print('\\t', i.feature)"
   ]
  },
  {
   "cell_type": "code",
   "execution_count": 40,
   "id": "454ac107-8855-4862-8582-e1f55e2f6ed6",
   "metadata": {},
   "outputs": [],
   "source": [
    "class RandomForest():\n",
    "    def __init__(self, n_estimators=5):\n",
    "        self.forest = []\n",
    "        self.n_estimators = n_estimators\n",
    "\n",
    "    def subsample(self, X, n_sample=2):\n",
    "        return np.random.choice(X.columns.to_numpy(), n_sample, replace=False)\n",
    "\n",
    "    def make_bootstrap(self, X, y, n_sample, key=True):\n",
    "        feature_subset = self.subsample(X, int(np.floor(np.log2(len(X)))))\n",
    "        X = X.sample(n=n_sample, replace=key, random_state=42)\n",
    "        y = y.sample(n=n_sample, replace=key, random_state=42)\n",
    "        return X[feature_subset], y\n",
    "\n",
    "    def fit(self, X, y):\n",
    "        test_sample = 7\n",
    "        for _ in range(self.n_estimators):\n",
    "            print(\"===Bootstrap Sample===\")\n",
    "            a, b = self.make_bootstrap(X, y, test_sample)\n",
    "            print(pd.concat([a, b], axis=1))\n",
    "            DecisionTree().fit(a, b)\n",
    "        # self.forest = [DecisionTree().fit(*self.make_bootstrap(X, y, test_sample))\n",
    "        #                for _ in range(self.n_estimators)]\n",
    "\n",
    "    def predict(self, X):\n",
    "        \"\"\"Aggregation\"\"\"\n",
    "        return stat.mode([dt.predict(X) for dt in self.forest])"
   ]
  },
  {
   "cell_type": "code",
   "execution_count": 41,
   "id": "72b17bc9",
   "metadata": {},
   "outputs": [],
   "source": [
    "rf = RandomForest()"
   ]
  },
  {
   "cell_type": "code",
   "execution_count": 42,
   "id": "25ecaa0d",
   "metadata": {},
   "outputs": [
    {
     "name": "stdout",
     "output_type": "stream",
     "text": [
      "===Bootstrap Sample===\n",
      "  Stream  Slope Vegetation\n",
      "6   true  steep  chapparal\n",
      "3  false  steep  chapparal\n",
      "4  false   flat    conifer\n",
      "6   true  steep  chapparal\n",
      "2   true  steep   riparian\n",
      "4  false   flat    conifer\n",
      "4  false   flat    conifer\n",
      "Best Feature Slope\n",
      "Best Feature Stream\n",
      "===Bootstrap Sample===\n",
      "   Slope Elevation Vegetation\n",
      "6  steep      high  chapparal\n",
      "3  steep    medium  chapparal\n",
      "4   flat      high    conifer\n",
      "6  steep      high  chapparal\n",
      "2  steep    medium   riparian\n",
      "4   flat      high    conifer\n",
      "4   flat      high    conifer\n",
      "Best Feature Slope\n",
      "Best Feature Elevation\n",
      "===Bootstrap Sample===\n",
      "  Stream  Slope Vegetation\n",
      "6   true  steep  chapparal\n",
      "3  false  steep  chapparal\n",
      "4  false   flat    conifer\n",
      "6   true  steep  chapparal\n",
      "2   true  steep   riparian\n",
      "4  false   flat    conifer\n",
      "4  false   flat    conifer\n",
      "Best Feature Slope\n",
      "Best Feature Stream\n",
      "===Bootstrap Sample===\n",
      "   Slope Elevation Vegetation\n",
      "6  steep      high  chapparal\n",
      "3  steep    medium  chapparal\n",
      "4   flat      high    conifer\n",
      "6  steep      high  chapparal\n",
      "2  steep    medium   riparian\n",
      "4   flat      high    conifer\n",
      "4   flat      high    conifer\n",
      "Best Feature Slope\n",
      "Best Feature Elevation\n",
      "===Bootstrap Sample===\n",
      "  Stream  Slope Vegetation\n",
      "6   true  steep  chapparal\n",
      "3  false  steep  chapparal\n",
      "4  false   flat    conifer\n",
      "6   true  steep  chapparal\n",
      "2   true  steep   riparian\n",
      "4  false   flat    conifer\n",
      "4  false   flat    conifer\n",
      "Best Feature Slope\n",
      "Best Feature Stream\n"
     ]
    }
   ],
   "source": [
    "rf.fit(X, y)"
   ]
  },
  {
   "cell_type": "code",
   "execution_count": null,
   "id": "f5d0b8a5",
   "metadata": {},
   "outputs": [],
   "source": []
  }
 ],
 "metadata": {
  "kernelspec": {
   "display_name": "Python 3 (ipykernel)",
   "language": "python",
   "name": "python3"
  },
  "language_info": {
   "codemirror_mode": {
    "name": "ipython",
    "version": 3
   },
   "file_extension": ".py",
   "mimetype": "text/x-python",
   "name": "python",
   "nbconvert_exporter": "python",
   "pygments_lexer": "ipython3",
   "version": "3.10.8"
  },
  "vscode": {
   "interpreter": {
    "hash": "31f2aee4e71d21fbe5cf8b01ff0e069b9275f58929596ceb00d14d90e3e16cd6"
   }
  }
 },
 "nbformat": 4,
 "nbformat_minor": 5
}
