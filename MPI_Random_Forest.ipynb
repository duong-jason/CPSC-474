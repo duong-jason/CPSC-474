{
 "cells": [
  {
   "cell_type": "code",
   "execution_count": 1,
   "id": "da94b54e",
   "metadata": {},
   "outputs": [],
   "source": [
    "import numpy as np\n",
    "import pandas as pd\n",
    "import statistics as stat\n",
    "from copy import deepcopy"
   ]
  },
  {
   "cell_type": "code",
   "execution_count": 2,
   "id": "0cde24ed",
   "metadata": {},
   "outputs": [
    {
     "data": {
      "text/html": [
       "<div>\n",
       "<style scoped>\n",
       "    .dataframe tbody tr th:only-of-type {\n",
       "        vertical-align: middle;\n",
       "    }\n",
       "\n",
       "    .dataframe tbody tr th {\n",
       "        vertical-align: top;\n",
       "    }\n",
       "\n",
       "    .dataframe thead th {\n",
       "        text-align: right;\n",
       "    }\n",
       "</style>\n",
       "<table border=\"1\" class=\"dataframe\">\n",
       "  <thead>\n",
       "    <tr style=\"text-align: right;\">\n",
       "      <th></th>\n",
       "      <th>Stream</th>\n",
       "      <th>Slope</th>\n",
       "      <th>Elevation</th>\n",
       "      <th>Vegetation</th>\n",
       "    </tr>\n",
       "  </thead>\n",
       "  <tbody>\n",
       "    <tr>\n",
       "      <th>0</th>\n",
       "      <td>false</td>\n",
       "      <td>steep</td>\n",
       "      <td>high</td>\n",
       "      <td>chapparal</td>\n",
       "    </tr>\n",
       "    <tr>\n",
       "      <th>1</th>\n",
       "      <td>true</td>\n",
       "      <td>moderate</td>\n",
       "      <td>low</td>\n",
       "      <td>riparian</td>\n",
       "    </tr>\n",
       "    <tr>\n",
       "      <th>2</th>\n",
       "      <td>true</td>\n",
       "      <td>steep</td>\n",
       "      <td>medium</td>\n",
       "      <td>riparian</td>\n",
       "    </tr>\n",
       "    <tr>\n",
       "      <th>3</th>\n",
       "      <td>false</td>\n",
       "      <td>steep</td>\n",
       "      <td>medium</td>\n",
       "      <td>chapparal</td>\n",
       "    </tr>\n",
       "    <tr>\n",
       "      <th>4</th>\n",
       "      <td>false</td>\n",
       "      <td>flat</td>\n",
       "      <td>high</td>\n",
       "      <td>conifer</td>\n",
       "    </tr>\n",
       "    <tr>\n",
       "      <th>5</th>\n",
       "      <td>true</td>\n",
       "      <td>steep</td>\n",
       "      <td>highest</td>\n",
       "      <td>conifer</td>\n",
       "    </tr>\n",
       "    <tr>\n",
       "      <th>6</th>\n",
       "      <td>true</td>\n",
       "      <td>steep</td>\n",
       "      <td>high</td>\n",
       "      <td>chapparal</td>\n",
       "    </tr>\n",
       "  </tbody>\n",
       "</table>\n",
       "</div>"
      ],
      "text/plain": [
       "  Stream     Slope Elevation Vegetation\n",
       "0  false     steep      high  chapparal\n",
       "1   true  moderate       low   riparian\n",
       "2   true     steep    medium   riparian\n",
       "3  false     steep    medium  chapparal\n",
       "4  false      flat      high    conifer\n",
       "5   true     steep   highest    conifer\n",
       "6   true     steep      high  chapparal"
      ]
     },
     "execution_count": 2,
     "metadata": {},
     "output_type": "execute_result"
    }
   ],
   "source": [
    "data = {\n",
    "    'Stream': ['false', 'true', 'true', 'false', 'false', 'true', 'true'],\n",
    "    'Slope': ['steep', 'moderate', 'steep', 'steep', 'flat', 'steep', 'steep'],\n",
    "    'Elevation': ['high', 'low', 'medium', 'medium', 'high', 'highest', 'high'],\n",
    "    'Vegetation': ['chapparal', 'riparian', 'riparian', 'chapparal', 'conifer', 'conifer', 'chapparal']\n",
    "}\n",
    "\n",
    "df = pd.DataFrame(data)\n",
    "df"
   ]
  },
  {
   "cell_type": "code",
   "execution_count": 3,
   "id": "c069e9f0",
   "metadata": {},
   "outputs": [],
   "source": [
    "X, y = df.iloc[:, :-1], df.iloc[:, -1]"
   ]
  },
  {
   "cell_type": "code",
   "execution_count": 4,
   "id": "288856b7",
   "metadata": {},
   "outputs": [],
   "source": [
    "class Node:\n",
    "    def __init__(\n",
    "        self,\n",
    "        feature=None,\n",
    "        data=None,\n",
    "        arc=None,\n",
    "        leaf=False,\n",
    "        parent=None,\n",
    "        children=[]\n",
    "    ):\n",
    "        self.feature = feature\n",
    "        self.data = data\n",
    "        self.arc = arc\n",
    "        self.leaf = leaf\n",
    "        # self.threshold = threshold\n",
    "        self.parent = parent\n",
    "        self.children = children\n",
    "\n",
    "    def __str__(self):\n",
    "        curr = self\n",
    "        while curr.parent:\n",
    "            print(curr.feature, f\"<--{curr.arc}-- \", end='')\n",
    "            curr = curr.parent\n",
    "        return curr.feature\n",
    "\n",
    "    @property\n",
    "    def isLeaf(self):\n",
    "        return self.leaf\n",
    "\n",
    "    @property\n",
    "    def y_data(self):\n",
    "        return self.data.iloc[:, -1]\n",
    "    \n",
    "    @property\n",
    "    def X_data(self):\n",
    "        return self.data.iloc[:, :-1]"
   ]
  },
  {
   "cell_type": "code",
   "execution_count": 5,
   "id": "02c8aafa",
   "metadata": {},
   "outputs": [],
   "source": [
    "class DecisionTree:\n",
    "    \"\"\"\n",
    "    A Rudimentary Decision Tree Classifier\n",
    "    \n",
    "    TODO\n",
    "        - Pruning\n",
    "        - Continuous Feature Values\n",
    "    \"\"\"\n",
    "    def __init__(self):\n",
    "        self.root = None\n",
    "\n",
    "    def display_tree(self, node=None, depth=''):\n",
    "        \"\"\"Displays the decision tree\"\"\"\n",
    "        if not depth: node = self.root\n",
    "\n",
    "        print(depth, node.feature)\n",
    "        if node:\n",
    "            for child in node.children:\n",
    "                self.display_tree(child, depth+'\\t')\n",
    "\n",
    "    def partition(self, X, y, d, t):\n",
    "        p = pd.concat([X.loc[X[d]==t], y.loc[X[d]==t]], axis=1)\n",
    "        p = p.drop([d], axis=1)\n",
    "        return p.iloc[:, :-1], p.iloc[:, -1], t\n",
    "\n",
    "    def entropy(self, X, y):\n",
    "        \"\"\"Measures the amount of uncertainty/impurity/heterogeneity in (X, y)\"\"\"\n",
    "        proba = lambda t: len(X.loc[y==t]) / len(X)\n",
    "        return -sum([proba(t) * np.log2(proba(t)) for t in y.unique()])\n",
    "    \n",
    "    def rem(self, X, y, d):\n",
    "        \"\"\"Measures the entropy after partitioning (X, y) on feature (d)\"\"\"\n",
    "        weight = lambda t: len(X.loc[X[d]==t]) / len(X)\n",
    "        return sum([weight(t) * self.entropy(X.loc[X[d]==t], y.loc[X[d]==t]) for t in X[d].unique()])\n",
    "\n",
    "    def information_gain(self, X, y, d):\n",
    "        \"\"\"Measures the reduction in the overall entropy in (X, y) achieved by testing on feature (d)\"\"\"\n",
    "        if debug:\n",
    "            print(f\"{d} = {self.entropy(X, y):.3f} - {self.rem(X, y, d):.3f} = {self.entropy(X, y) - self.rem(X, y, d):.3f}\") \n",
    "\n",
    "        return self.entropy(X, y) - self.rem(X, y, d)\n",
    "\n",
    "    def fit(self, X, y, *, parent=None, level=None):\n",
    "        \"\"\"Performs the ID3 algorithm\"\"\"\n",
    "        if len(y.unique()) == 1:  # all instances have the same target feature values\n",
    "            if debug:\n",
    "                print(\"All instances have the same target feature value\\n\")\n",
    "            return Node(feature=y.iloc[0],\n",
    "                        data=pd.concat([X, y], axis=1),\n",
    "                        arc=level,\n",
    "                        leaf=True,\n",
    "                        parent=parent)\n",
    "        elif all((X[d] == X[d].iloc[0]).all() for d in X.columns):  # if all feature values are identical\n",
    "            if debug:\n",
    "                print(\"All instances have the same descriptive features\\n\")\n",
    "            return Node(feature=stat.mode(y),\n",
    "                        data=pd.concat([X, y], axis=1),\n",
    "                        arc=level,\n",
    "                        leaf=True,\n",
    "                        parent=parent)\n",
    "        elif X.empty:  # dataset is empty, return a leaf node labeled with the majority class of the parent\n",
    "            if debug:\n",
    "                print(\"Dataset is empty\\n\")\n",
    "            return Node(feature=stat.mode(parent.y_data),\n",
    "                        arc=level,\n",
    "                        leaf=True,\n",
    "                        parent=parent)\n",
    "\n",
    "        if debug:\n",
    "            print(\"===Information Gain===\")\n",
    "        best_feature = X.columns[np.argmax([self.information_gain(X, y, d) for d in X.columns])]\n",
    "\n",
    "        best_node = deepcopy(Node(feature=best_feature,\n",
    "                             data=pd.concat([X, y], axis=1),\n",
    "                             arc=level,\n",
    "                             parent=parent))\n",
    "\n",
    "        if debug:\n",
    "            print()\n",
    "            print(\"===Best Feature===\")\n",
    "            print(best_feature)\n",
    "            print()\n",
    "\n",
    "        partitions = [self.partition(X, y, best_feature, t) for t in X[best_feature].unique()]\n",
    "\n",
    "        if not self.root:\n",
    "            self.root = best_node\n",
    "\n",
    "        for *d, t in partitions:\n",
    "            if debug:\n",
    "                print(f\"===Partitioned Dataset {t}===\")\n",
    "                print(pd.concat([*d], axis=1))\n",
    "                print()\n",
    "            best_node.children.append(self.fit(*d, parent=best_node, level=t))\n",
    "\n",
    "        if self.root is best_node:\n",
    "            return self\n",
    "        return best_node\n",
    "\n",
    "    def predict(self, X):\n",
    "        node = self.root\n",
    "        while not node.isLeaf:\n",
    "            arc = X[node.feature].iloc[0]\n",
    "            for child in node.children:\n",
    "                if arc == child.arc:\n",
    "                    node = child\n",
    "                    break  \n",
    "        return node.feature"
   ]
  },
  {
   "cell_type": "code",
   "execution_count": 6,
   "id": "d96c2383",
   "metadata": {},
   "outputs": [],
   "source": [
    "debug = 0\n",
    "dt = DecisionTree().fit(X, y)"
   ]
  },
  {
   "cell_type": "code",
   "execution_count": 7,
   "id": "49d38e7e",
   "metadata": {},
   "outputs": [
    {
     "name": "stdout",
     "output_type": "stream",
     "text": [
      " Elevation\n",
      "\t Slope\n",
      "\t\t chapparal\n",
      "\t\t conifer\n",
      "\t riparian\n",
      "\t Stream\n",
      "\t\t riparian\n",
      "\t\t chapparal\n",
      "\t conifer\n"
     ]
    }
   ],
   "source": [
    "dt.display_tree()"
   ]
  },
  {
   "cell_type": "code",
   "execution_count": 8,
   "id": "a85e2005",
   "metadata": {},
   "outputs": [
    {
     "data": {
      "text/plain": [
       "'chapparal'"
      ]
     },
     "execution_count": 8,
     "metadata": {},
     "output_type": "execute_result"
    }
   ],
   "source": [
    "X_test = pd.DataFrame({'Stream': ['true'],\n",
    "                       'Slope': ['steep'],\n",
    "                       'Elevation': ['high']})\n",
    "dt.predict(X_test)"
   ]
  },
  {
   "cell_type": "code",
   "execution_count": 9,
   "id": "454ac107-8855-4862-8582-e1f55e2f6ed6",
   "metadata": {},
   "outputs": [],
   "source": [
    "class RandomForest():\n",
    "    def __init__(self, n_estimators=5, n_sample=2):\n",
    "        self.n_estimators = n_estimators\n",
    "        self.n_sample = n_sample\n",
    "        self.forest = []\n",
    "\n",
    "    def __repr__(self):\n",
    "        return self.forest\n",
    "\n",
    "    def subsample(self, X, n_sample=2):\n",
    "        return np.random.choice(X.columns.to_numpy(), n_sample, replace=False)\n",
    "\n",
    "    def make_bootstrap(self, X, y, n_sample, key=True):\n",
    "        feature_subset = self.subsample(X, int(np.log2(len(X))))\n",
    "        d = pd.concat([X, y], axis=1)\n",
    "        d = d.sample(n=n_sample, replace=key)\n",
    "        return d.iloc[:, :-1][feature_subset], d.iloc[:, -1]\n",
    "\n",
    "    def fit(self, X, y):\n",
    "        if debug:\n",
    "            for _ in range(self.n_estimators):\n",
    "                print(f\"===Decision Tree {_+1}===\")\n",
    "                a, b = self.make_bootstrap(X, y, self.n_sample)\n",
    "                print(pd.concat([a, b], axis=1))\n",
    "                _ = DecisionTree().fit(a, b)\n",
    "                _.display_tree()\n",
    "                self.forest.append(_)\n",
    "        else:\n",
    "            self.forest = [DecisionTree().fit(*self.make_bootstrap(X, y, self.n_sample))\n",
    "                           for _ in range(self.n_estimators)]\n",
    "\n",
    "    def predict(self, X):\n",
    "        \"\"\"Aggregation\"\"\"\n",
    "        assert all(isinstance(m, DecisionTree) for m in self.forest)\n",
    "        pred = [model.predict(X) for model in self.forest]\n",
    "        print(pred)\n",
    "        return stat.mode(pred)\n",
    "        # return stat.mode([dt.predict(X) for dt in self.forest])"
   ]
  },
  {
   "cell_type": "code",
   "execution_count": 10,
   "id": "08d17d4e",
   "metadata": {},
   "outputs": [],
   "source": [
    "rf = RandomForest(n_estimators=50, n_sample=len(X))"
   ]
  },
  {
   "cell_type": "code",
   "execution_count": 11,
   "id": "f2631228",
   "metadata": {},
   "outputs": [],
   "source": [
    "rf.fit(X, y)"
   ]
  },
  {
   "cell_type": "code",
   "execution_count": 12,
   "id": "030bd0a7",
   "metadata": {},
   "outputs": [
    {
     "name": "stdout",
     "output_type": "stream",
     "text": [
      "['conifer', 'chapparal', 'conifer', 'conifer', 'riparian', 'riparian', 'chapparal', 'conifer', 'chapparal', 'chapparal', 'chapparal', 'chapparal', 'conifer', 'chapparal', 'chapparal', 'conifer', 'chapparal', 'conifer', 'chapparal', 'chapparal', 'conifer', 'chapparal', 'conifer', 'chapparal', 'conifer', 'chapparal', 'chapparal', 'conifer', 'chapparal', 'chapparal', 'chapparal', 'chapparal', 'chapparal', 'conifer', 'chapparal', 'chapparal', 'chapparal', 'chapparal', 'chapparal', 'chapparal', 'chapparal', 'conifer', 'conifer', 'riparian', 'chapparal', 'chapparal', 'chapparal', 'riparian', 'chapparal', 'conifer']\n"
     ]
    },
    {
     "data": {
      "text/plain": [
       "'chapparal'"
      ]
     },
     "execution_count": 12,
     "metadata": {},
     "output_type": "execute_result"
    }
   ],
   "source": [
    "X_test = pd.DataFrame({'Stream': ['true'],\n",
    "                       'Slope': ['steep'],\n",
    "                       'Elevation': ['high']})\n",
    "rf.predict(X_test)"
   ]
  },
  {
   "cell_type": "code",
   "execution_count": null,
   "id": "b7e8e725",
   "metadata": {},
   "outputs": [],
   "source": []
  },
  {
   "cell_type": "code",
   "execution_count": null,
   "id": "49a7d8eb",
   "metadata": {},
   "outputs": [],
   "source": []
  }
 ],
 "metadata": {
  "kernelspec": {
   "display_name": "Python 3 (ipykernel)",
   "language": "python",
   "name": "python3"
  },
  "language_info": {
   "codemirror_mode": {
    "name": "ipython",
    "version": 3
   },
   "file_extension": ".py",
   "mimetype": "text/x-python",
   "name": "python",
   "nbconvert_exporter": "python",
   "pygments_lexer": "ipython3",
   "version": "3.10.6"
  },
  "vscode": {
   "interpreter": {
    "hash": "31f2aee4e71d21fbe5cf8b01ff0e069b9275f58929596ceb00d14d90e3e16cd6"
   }
  }
 },
 "nbformat": 4,
 "nbformat_minor": 5
}
