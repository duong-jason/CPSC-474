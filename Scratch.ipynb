{
 "cells": [
  {
   "cell_type": "code",
   "execution_count": 2,
   "id": "2afdde39",
   "metadata": {},
   "outputs": [],
   "source": [
    "import numpy as np\n",
    "import pandas as pd"
   ]
  },
  {
   "cell_type": "code",
   "execution_count": 3,
   "id": "89cea9bd",
   "metadata": {},
   "outputs": [],
   "source": [
    "data = {\n",
    "    'Stream': ['false', 'true', 'true', 'false', 'false', 'true', 'true'],\n",
    "    'Slope': ['steep', 'moderate', 'steep', 'steep', 'flat', 'steep', 'steep'],\n",
    "    'Elevation': ['high', 'low', 'medium', 'medium', 'high', 'highest', 'high'],\n",
    "    'Vegetation': ['chapparal', 'riparian', 'riparian', 'chapparal', 'conifer', 'conifer', 'chapparal']\n",
    "}\n",
    "\n",
    "df = pd.DataFrame(data)"
   ]
  },
  {
   "cell_type": "code",
   "execution_count": 4,
   "id": "49b57527",
   "metadata": {},
   "outputs": [
    {
     "data": {
      "text/plain": [
       "0    false\n",
       "1     true\n",
       "2     true\n",
       "3    false\n",
       "4    false\n",
       "5     true\n",
       "6     true\n",
       "Name: Stream, dtype: object"
      ]
     },
     "execution_count": 4,
     "metadata": {},
     "output_type": "execute_result"
    }
   ],
   "source": [
    "X, y = df.iloc[:, :-1], df.iloc[:, -1]\n",
    "X['Stream']"
   ]
  },
  {
   "cell_type": "code",
   "execution_count": 5,
   "id": "4c52ad62",
   "metadata": {},
   "outputs": [
    {
     "name": "stdout",
     "output_type": "stream",
     "text": [
      "   Elevation Vegetation\n",
      "0        300   riparian\n",
      "1       1200  chapparal\n",
      "2       1500   riparian\n",
      "3       3000  chapparal\n",
      "4       3900  chapparal\n",
      "5       4450    conifer\n",
      "6       5000    conifer\n"
     ]
    },
    {
     "data": {
      "text/html": [
       "<div>\n",
       "<style scoped>\n",
       "    .dataframe tbody tr th:only-of-type {\n",
       "        vertical-align: middle;\n",
       "    }\n",
       "\n",
       "    .dataframe tbody tr th {\n",
       "        vertical-align: top;\n",
       "    }\n",
       "\n",
       "    .dataframe thead th {\n",
       "        text-align: right;\n",
       "    }\n",
       "</style>\n",
       "<table border=\"1\" class=\"dataframe\">\n",
       "  <thead>\n",
       "    <tr style=\"text-align: right;\">\n",
       "      <th></th>\n",
       "      <th>Elevation</th>\n",
       "      <th>Vegetation</th>\n",
       "    </tr>\n",
       "  </thead>\n",
       "  <tbody>\n",
       "    <tr>\n",
       "      <th>0</th>\n",
       "      <td>(299.999, 1350.0]</td>\n",
       "      <td>riparian</td>\n",
       "    </tr>\n",
       "    <tr>\n",
       "      <th>1</th>\n",
       "      <td>(299.999, 1350.0]</td>\n",
       "      <td>chapparal</td>\n",
       "    </tr>\n",
       "    <tr>\n",
       "      <th>2</th>\n",
       "      <td>(1350.0, 3000.0]</td>\n",
       "      <td>riparian</td>\n",
       "    </tr>\n",
       "    <tr>\n",
       "      <th>3</th>\n",
       "      <td>(1350.0, 3000.0]</td>\n",
       "      <td>chapparal</td>\n",
       "    </tr>\n",
       "    <tr>\n",
       "      <th>4</th>\n",
       "      <td>(3000.0, 4175.0]</td>\n",
       "      <td>chapparal</td>\n",
       "    </tr>\n",
       "    <tr>\n",
       "      <th>5</th>\n",
       "      <td>NaN</td>\n",
       "      <td>conifer</td>\n",
       "    </tr>\n",
       "    <tr>\n",
       "      <th>6</th>\n",
       "      <td>NaN</td>\n",
       "      <td>conifer</td>\n",
       "    </tr>\n",
       "  </tbody>\n",
       "</table>\n",
       "</div>"
      ],
      "text/plain": [
       "           Elevation Vegetation\n",
       "0  (299.999, 1350.0]   riparian\n",
       "1  (299.999, 1350.0]  chapparal\n",
       "2   (1350.0, 3000.0]   riparian\n",
       "3   (1350.0, 3000.0]  chapparal\n",
       "4   (3000.0, 4175.0]  chapparal\n",
       "5                NaN    conifer\n",
       "6                NaN    conifer"
      ]
     },
     "execution_count": 5,
     "metadata": {},
     "output_type": "execute_result"
    }
   ],
   "source": [
    "data = {\n",
    "    \"Elevation\": [300, 1200, 1500, 3000, 3900, 4450, 5000],\n",
    "    'Vegetation': ['riparian', 'chapparal', 'riparian', 'chapparal', 'chapparal', 'conifer', 'conifer']\n",
    "}\n",
    "\n",
    "df = pd.DataFrame(data)\n",
    "\n",
    "d = \"Elevation\"\n",
    "df.sort_values(by=[d])\n",
    "print(df)\n",
    "p, q = df.iloc[:, :-1], df.iloc[:, -1]\n",
    "\n",
    "df[d] = pd.qcut(df[d], np.arange(0, 1, 0.25))\n",
    "df\n",
    "# def entropy(X, y):\n",
    "#     \"\"\"Measures the amount of uncertainty/impurity/heterogeneity in (X, y)\"\"\"\n",
    "#     proba = lambda t: len(X.loc[y==t]) / len(X)\n",
    "#     return -sum([proba(t) * np.log2(proba(t)) for t in y.unique()])\n",
    "\n",
    "# def rem(X, y, d):\n",
    "#     weight = lambda t: len(X.loc[X[d]==t]) / len(X)\n",
    "#     return sum([weight(t) * entropy(X.loc[X[d]==t], y.loc[X[d]==t]) for t in X[d].unique()])\n",
    "\n",
    "# def information_gain(X, y, d):\n",
    "#     print(f\"{d} = {entropy(X, y):.3f} - {rem(X, y, d):.3f} = {entropy(X, y) - rem(X, y, d):.3f}\") \n",
    "#     return entropy(X, y) - rem(X, y, d)\n",
    "\n",
    "# thresholds = []\n",
    "# prev_target = q.values[0]\n",
    "# for i, target in enumerate(q.values):\n",
    "#     if target != prev_target:\n",
    "#         thresholds.append(np.average([p[d].iloc[i], p[d].iloc[i-1]]))\n",
    "#     prev_target = target\n",
    "\n",
    "# print(thresholds)\n",
    "\n",
    "# gains = []\n",
    "# for t in thresholds:\n",
    "#     x = p.copy()\n",
    "#     binned_feature = pd.cut(x[d], bins=[0, t, x[d].max()], labels=['a', 'b'])\n",
    "#     x[d] = binned_feature.values\n",
    "#     gains.append(information_gain(x, q, d))\n",
    "\n",
    "# print(gains)\n",
    "\n",
    "# best_split = thresholds[np.argmax(gains)]\n",
    "# binned_feature = pd.cut(p[d], bins=[0, best_split, p[d].max()], labels=['a', 'b'])\n",
    "# p[d] = binned_feature.values"
   ]
  },
  {
   "cell_type": "code",
   "execution_count": null,
   "id": "5cd9cee3",
   "metadata": {},
   "outputs": [
    {
     "data": {
      "text/plain": [
       "{'Elevation': array([ 300, 1200, 1500, 3000, 3900, 4450, 5000])}"
      ]
     },
     "execution_count": 79,
     "metadata": {},
     "output_type": "execute_result"
    }
   ],
   "source": [
    "{k: X[k].unique() for k in X.columns}"
   ]
  },
  {
   "cell_type": "code",
   "execution_count": null,
   "id": "91588dfe",
   "metadata": {},
   "outputs": [
    {
     "data": {
      "text/plain": [
       "False"
      ]
     },
     "execution_count": 80,
     "metadata": {},
     "output_type": "execute_result"
    }
   ],
   "source": [
    "# Base Case 1\n",
    "a = y.loc[X['Elevation']=='low']\n",
    "len(a.unique()) == 1"
   ]
  },
  {
   "cell_type": "code",
   "execution_count": null,
   "id": "fc7eab88",
   "metadata": {},
   "outputs": [
    {
     "name": "stdout",
     "output_type": "stream",
     "text": [
      "   A  B\n",
      "0  0  1\n",
      "1  0  1\n",
      "True\n",
      "   A  B\n",
      "0  0  0\n",
      "1  1  1\n"
     ]
    },
    {
     "data": {
      "text/plain": [
       "False"
      ]
     },
     "execution_count": 81,
     "metadata": {},
     "output_type": "execute_result"
    }
   ],
   "source": [
    "# Base Case 2\n",
    "data = {\n",
    "    'A':[0,0],\n",
    "    'B':[1,1]\n",
    "}\n",
    "\n",
    "a = pd.DataFrame(data)\n",
    "print(a)\n",
    "\n",
    "print(all((a[d] == a[d].iloc[0]).all() for d in a.columns))\n",
    "\n",
    "data = {\n",
    "    'A':[0,1],\n",
    "    'B':[0,1]\n",
    "}\n",
    "\n",
    "a = pd.DataFrame(data)\n",
    "print(a)\n",
    "all((a[d] == a[d].iloc[0]).all() for d in a.columns)"
   ]
  },
  {
   "cell_type": "code",
   "execution_count": null,
   "id": "fbf82e9f",
   "metadata": {},
   "outputs": [
    {
     "data": {
      "text/plain": [
       "True"
      ]
     },
     "execution_count": 82,
     "metadata": {},
     "output_type": "execute_result"
    }
   ],
   "source": [
    "# Base Case 3\n",
    "a = pd.DataFrame({})\n",
    "a.empty"
   ]
  },
  {
   "cell_type": "code",
   "execution_count": null,
   "id": "ad2e455a",
   "metadata": {},
   "outputs": [],
   "source": []
  }
 ],
 "metadata": {
  "kernelspec": {
   "display_name": "Python 3.9.6 64-bit",
   "language": "python",
   "name": "python3"
  },
  "language_info": {
   "codemirror_mode": {
    "name": "ipython",
    "version": 3
   },
   "file_extension": ".py",
   "mimetype": "text/x-python",
   "name": "python",
   "nbconvert_exporter": "python",
   "pygments_lexer": "ipython3",
   "version": "3.10.6"
  },
  "vscode": {
   "interpreter": {
    "hash": "31f2aee4e71d21fbe5cf8b01ff0e069b9275f58929596ceb00d14d90e3e16cd6"
   }
  }
 },
 "nbformat": 4,
 "nbformat_minor": 5
}
