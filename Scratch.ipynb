{
 "cells": [
  {
   "cell_type": "code",
   "execution_count": 1,
   "id": "2afdde39",
   "metadata": {},
   "outputs": [],
   "source": [
    "import numpy as np\n",
    "import pandas as pd"
   ]
  },
  {
   "cell_type": "code",
   "execution_count": 2,
   "id": "89cea9bd",
   "metadata": {},
   "outputs": [],
   "source": [
    "data = {\n",
    "    'Stream': ['false', 'true', 'true', 'false', 'false', 'true', 'true'],\n",
    "    'Slope': ['steep', 'moderate', 'steep', 'steep', 'flat', 'steep', 'steep'],\n",
    "    'Elevation': ['high', 'low', 'medium', 'medium', 'high', 'highest', 'high'],\n",
    "    'Vegetation': ['chapparal', 'riparian', 'riparian', 'chapparal', 'conifer', 'conifer', 'chapparal']\n",
    "}\n",
    "\n",
    "df = pd.DataFrame(data)"
   ]
  },
  {
   "cell_type": "code",
   "execution_count": null,
   "id": "49b57527",
   "metadata": {},
   "outputs": [],
   "source": [
    "X, y = df.iloc[:, :-1], df.iloc[:, -1]"
   ]
  },
  {
   "cell_type": "code",
   "execution_count": 11,
   "id": "5cd9cee3",
   "metadata": {},
   "outputs": [
    {
     "data": {
      "text/plain": [
       "'Elevation'"
      ]
     },
     "execution_count": 11,
     "metadata": {},
     "output_type": "execute_result"
    }
   ],
   "source": [
    "X.columns[2]"
   ]
  },
  {
   "cell_type": "code",
   "execution_count": 4,
   "id": "91588dfe",
   "metadata": {},
   "outputs": [
    {
     "data": {
      "text/plain": [
       "True"
      ]
     },
     "execution_count": 4,
     "metadata": {},
     "output_type": "execute_result"
    }
   ],
   "source": [
    "# Base Case 1\n",
    "a = y.loc[X['Elevation']=='low']\n",
    "len(a.unique()) == 1"
   ]
  },
  {
   "cell_type": "code",
   "execution_count": 5,
   "id": "fc7eab88",
   "metadata": {},
   "outputs": [
    {
     "name": "stdout",
     "output_type": "stream",
     "text": [
      "   A  B\n",
      "0  0  1\n",
      "1  0  1\n",
      "True\n",
      "   A  B\n",
      "0  0  0\n",
      "1  1  1\n"
     ]
    },
    {
     "data": {
      "text/plain": [
       "False"
      ]
     },
     "execution_count": 5,
     "metadata": {},
     "output_type": "execute_result"
    }
   ],
   "source": [
    "# Base Case 2\n",
    "data = {\n",
    "    'A':[0,0],\n",
    "    'B':[1,1]\n",
    "}\n",
    "\n",
    "a = pd.DataFrame(data)\n",
    "print(a)\n",
    "\n",
    "print(all((a[d] == a[d].iloc[0]).all() for d in a.columns))\n",
    "\n",
    "data = {\n",
    "    'A':[0,1],\n",
    "    'B':[0,1]\n",
    "}\n",
    "\n",
    "a = pd.DataFrame(data)\n",
    "print(a)\n",
    "all((a[d] == a[d].iloc[0]).all() for d in a.columns)"
   ]
  },
  {
   "cell_type": "code",
   "execution_count": 6,
   "id": "fbf82e9f",
   "metadata": {},
   "outputs": [
    {
     "data": {
      "text/plain": [
       "True"
      ]
     },
     "execution_count": 6,
     "metadata": {},
     "output_type": "execute_result"
    }
   ],
   "source": [
    "# Base Case 3\n",
    "a = pd.DataFrame({})\n",
    "a.empty"
   ]
  },
  {
   "cell_type": "code",
   "execution_count": null,
   "id": "ad2e455a",
   "metadata": {},
   "outputs": [],
   "source": []
  }
 ],
 "metadata": {
  "kernelspec": {
   "display_name": "Python 3 (ipykernel)",
   "language": "python",
   "name": "python3"
  },
  "language_info": {
   "codemirror_mode": {
    "name": "ipython",
    "version": 3
   },
   "file_extension": ".py",
   "mimetype": "text/x-python",
   "name": "python",
   "nbconvert_exporter": "python",
   "pygments_lexer": "ipython3",
   "version": "3.10.6"
  }
 },
 "nbformat": 4,
 "nbformat_minor": 5
}
